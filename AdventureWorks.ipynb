{
 "cells": [
  {
   "cell_type": "markdown",
   "id": "1f189550-44a0-4fed-b267-12ce382d799c",
   "metadata": {},
   "source": [
    "# Análisis DataSet Adventure Works "
   ]
  },
  {
   "cell_type": "code",
   "execution_count": 9,
   "id": "0dc49a38-1e2b-421f-9985-dea3de6882fa",
   "metadata": {},
   "outputs": [],
   "source": [
    "# Importación de librerias\n",
    "\n",
    "import pandas as pd\n",
    "import numpy as np\n",
    "import matplotlib.pyplot as plt\n",
    "import plotly.express as px\n",
    "import plotly.graph_objects as go\n",
    "import seaborn as sns\n",
    "from sklearn.metrics import accuracy_score\n",
    "from sklearn.metrics import confusion_matrix\n",
    "from sklearn.metrics import ConfusionMatrixDisplay\n",
    "from sklearn.tree import plot_tree\n",
    "from statsmodels.tsa.statespace.sarimax import SARIMAX\n",
    "from statsmodels.graphics.tsaplots import plot_acf, plot_pacf\n",
    "from statsmodels.tsa.seasonal import seasonal_decompose\n",
    "from statsmodels.tsa.stattools import adfuller\n",
    "from pmdarima import ARIMA\n",
    "from pmdarima import auto_arima\n",
    "from sklearn.metrics import mean_squared_error\n",
    "from statsmodels.tools.eval_measures import rmse\n",
    "from sklearn import metrics\n",
    "\n",
    "import warnings\n",
    "warnings.filterwarnings(\"ignore\")"
   ]
  },
  {
   "cell_type": "markdown",
   "id": "b8fbd936-636a-4f4b-982e-44297c193294",
   "metadata": {},
   "source": [
    "# Decision tree (Modelo de clasificación)"
   ]
  },
  {
   "cell_type": "code",
   "execution_count": 12,
   "id": "1b8a811d-91f6-4e34-82e1-3247e63cd71c",
   "metadata": {},
   "outputs": [],
   "source": [
    "# Lectura del DataSet\n",
    "df_var = pd.read_csv('Var Discreta Adq .csv', sep = ';')"
   ]
  },
  {
   "cell_type": "code",
   "execution_count": 14,
   "id": "58f69247-9e06-43d6-8807-150160dc05cb",
   "metadata": {},
   "outputs": [
    {
     "data": {
      "text/html": [
       "<div>\n",
       "<style scoped>\n",
       "    .dataframe tbody tr th:only-of-type {\n",
       "        vertical-align: middle;\n",
       "    }\n",
       "\n",
       "    .dataframe tbody tr th {\n",
       "        vertical-align: top;\n",
       "    }\n",
       "\n",
       "    .dataframe thead th {\n",
       "        text-align: right;\n",
       "    }\n",
       "</style>\n",
       "<table border=\"1\" class=\"dataframe\">\n",
       "  <thead>\n",
       "    <tr style=\"text-align: right;\">\n",
       "      <th></th>\n",
       "      <th>TotalAmount</th>\n",
       "      <th>BikePurchase</th>\n",
       "      <th>CustomerID</th>\n",
       "      <th>Country</th>\n",
       "      <th>CountryRegionCode</th>\n",
       "      <th>Group</th>\n",
       "      <th>PersonID</th>\n",
       "      <th>PersonType</th>\n",
       "      <th>DateFirstPurchase</th>\n",
       "      <th>BirthDate</th>\n",
       "      <th>Age</th>\n",
       "      <th>MaritalStatus</th>\n",
       "      <th>YearlyIncome</th>\n",
       "      <th>Gender</th>\n",
       "      <th>TotalChildren</th>\n",
       "      <th>Education</th>\n",
       "      <th>Occupation</th>\n",
       "      <th>HomeOwnerFlag</th>\n",
       "      <th>NumberCarsOwned</th>\n",
       "    </tr>\n",
       "  </thead>\n",
       "  <tbody>\n",
       "    <tr>\n",
       "      <th>0</th>\n",
       "      <td>8139</td>\n",
       "      <td>1</td>\n",
       "      <td>11003</td>\n",
       "      <td>Australia</td>\n",
       "      <td>AU</td>\n",
       "      <td>Pacific</td>\n",
       "      <td>11358</td>\n",
       "      <td>IN</td>\n",
       "      <td>37073</td>\n",
       "      <td>24883</td>\n",
       "      <td>52</td>\n",
       "      <td>S</td>\n",
       "      <td>50001-75000</td>\n",
       "      <td>F</td>\n",
       "      <td>0</td>\n",
       "      <td>Bachelors</td>\n",
       "      <td>Professional</td>\n",
       "      <td>0</td>\n",
       "      <td>1</td>\n",
       "    </tr>\n",
       "    <tr>\n",
       "      <th>1</th>\n",
       "      <td>2994</td>\n",
       "      <td>1</td>\n",
       "      <td>14501</td>\n",
       "      <td>Southwest</td>\n",
       "      <td>US</td>\n",
       "      <td>North America</td>\n",
       "      <td>11211</td>\n",
       "      <td>IN</td>\n",
       "      <td>37073</td>\n",
       "      <td>14013</td>\n",
       "      <td>82</td>\n",
       "      <td>M</td>\n",
       "      <td>75001-100000</td>\n",
       "      <td>M</td>\n",
       "      <td>4</td>\n",
       "      <td>Graduate Degree</td>\n",
       "      <td>Management</td>\n",
       "      <td>1</td>\n",
       "      <td>2</td>\n",
       "    </tr>\n",
       "    <tr>\n",
       "      <th>2</th>\n",
       "      <td>4118</td>\n",
       "      <td>1</td>\n",
       "      <td>21768</td>\n",
       "      <td>Canada</td>\n",
       "      <td>CA</td>\n",
       "      <td>North America</td>\n",
       "      <td>14078</td>\n",
       "      <td>IN</td>\n",
       "      <td>37073</td>\n",
       "      <td>17036</td>\n",
       "      <td>74</td>\n",
       "      <td>S</td>\n",
       "      <td>50001-75000</td>\n",
       "      <td>M</td>\n",
       "      <td>5</td>\n",
       "      <td>Bachelors</td>\n",
       "      <td>Management</td>\n",
       "      <td>1</td>\n",
       "      <td>3</td>\n",
       "    </tr>\n",
       "    <tr>\n",
       "      <th>3</th>\n",
       "      <td>4631</td>\n",
       "      <td>1</td>\n",
       "      <td>25863</td>\n",
       "      <td>Northwest</td>\n",
       "      <td>US</td>\n",
       "      <td>North America</td>\n",
       "      <td>10553</td>\n",
       "      <td>IN</td>\n",
       "      <td>37073</td>\n",
       "      <td>17139</td>\n",
       "      <td>74</td>\n",
       "      <td>S</td>\n",
       "      <td>25001-50000</td>\n",
       "      <td>F</td>\n",
       "      <td>5</td>\n",
       "      <td>High School</td>\n",
       "      <td>Professional</td>\n",
       "      <td>1</td>\n",
       "      <td>3</td>\n",
       "    </tr>\n",
       "    <tr>\n",
       "      <th>4</th>\n",
       "      <td>3399</td>\n",
       "      <td>1</td>\n",
       "      <td>28389</td>\n",
       "      <td>France</td>\n",
       "      <td>FR</td>\n",
       "      <td>Europe</td>\n",
       "      <td>15519</td>\n",
       "      <td>IN</td>\n",
       "      <td>37073</td>\n",
       "      <td>23729</td>\n",
       "      <td>56</td>\n",
       "      <td>S</td>\n",
       "      <td>0-25000</td>\n",
       "      <td>F</td>\n",
       "      <td>3</td>\n",
       "      <td>High School</td>\n",
       "      <td>Manual</td>\n",
       "      <td>0</td>\n",
       "      <td>0</td>\n",
       "    </tr>\n",
       "    <tr>\n",
       "      <th>5</th>\n",
       "      <td>8121</td>\n",
       "      <td>1</td>\n",
       "      <td>11005</td>\n",
       "      <td>Australia</td>\n",
       "      <td>AU</td>\n",
       "      <td>Pacific</td>\n",
       "      <td>6990</td>\n",
       "      <td>IN</td>\n",
       "      <td>37074</td>\n",
       "      <td>23959</td>\n",
       "      <td>55</td>\n",
       "      <td>S</td>\n",
       "      <td>50001-75000</td>\n",
       "      <td>M</td>\n",
       "      <td>0</td>\n",
       "      <td>Bachelors</td>\n",
       "      <td>Professional</td>\n",
       "      <td>1</td>\n",
       "      <td>1</td>\n",
       "    </tr>\n",
       "    <tr>\n",
       "      <th>6</th>\n",
       "      <td>8133</td>\n",
       "      <td>1</td>\n",
       "      <td>11011</td>\n",
       "      <td>Australia</td>\n",
       "      <td>AU</td>\n",
       "      <td>Pacific</td>\n",
       "      <td>18258</td>\n",
       "      <td>IN</td>\n",
       "      <td>37074</td>\n",
       "      <td>23319</td>\n",
       "      <td>57</td>\n",
       "      <td>M</td>\n",
       "      <td>50001-75000</td>\n",
       "      <td>M</td>\n",
       "      <td>4</td>\n",
       "      <td>Bachelors</td>\n",
       "      <td>Professional</td>\n",
       "      <td>1</td>\n",
       "      <td>4</td>\n",
       "    </tr>\n",
       "    <tr>\n",
       "      <th>7</th>\n",
       "      <td>5938</td>\n",
       "      <td>1</td>\n",
       "      <td>16624</td>\n",
       "      <td>Australia</td>\n",
       "      <td>AU</td>\n",
       "      <td>Pacific</td>\n",
       "      <td>14897</td>\n",
       "      <td>IN</td>\n",
       "      <td>37074</td>\n",
       "      <td>26507</td>\n",
       "      <td>48</td>\n",
       "      <td>S</td>\n",
       "      <td>75001-100000</td>\n",
       "      <td>M</td>\n",
       "      <td>0</td>\n",
       "      <td>Bachelors</td>\n",
       "      <td>Professional</td>\n",
       "      <td>0</td>\n",
       "      <td>3</td>\n",
       "    </tr>\n",
       "    <tr>\n",
       "      <th>8</th>\n",
       "      <td>6051</td>\n",
       "      <td>1</td>\n",
       "      <td>27645</td>\n",
       "      <td>Southwest</td>\n",
       "      <td>US</td>\n",
       "      <td>North America</td>\n",
       "      <td>13514</td>\n",
       "      <td>IN</td>\n",
       "      <td>37074</td>\n",
       "      <td>22511</td>\n",
       "      <td>59</td>\n",
       "      <td>M</td>\n",
       "      <td>greater than 100000</td>\n",
       "      <td>M</td>\n",
       "      <td>1</td>\n",
       "      <td>High School</td>\n",
       "      <td>Professional</td>\n",
       "      <td>1</td>\n",
       "      <td>4</td>\n",
       "    </tr>\n",
       "    <tr>\n",
       "      <th>9</th>\n",
       "      <td>5873</td>\n",
       "      <td>1</td>\n",
       "      <td>16351</td>\n",
       "      <td>Australia</td>\n",
       "      <td>AU</td>\n",
       "      <td>Pacific</td>\n",
       "      <td>4916</td>\n",
       "      <td>IN</td>\n",
       "      <td>37075</td>\n",
       "      <td>19912</td>\n",
       "      <td>66</td>\n",
       "      <td>S</td>\n",
       "      <td>75001-100000</td>\n",
       "      <td>F</td>\n",
       "      <td>2</td>\n",
       "      <td>Partial College</td>\n",
       "      <td>Skilled Manual</td>\n",
       "      <td>0</td>\n",
       "      <td>2</td>\n",
       "    </tr>\n",
       "  </tbody>\n",
       "</table>\n",
       "</div>"
      ],
      "text/plain": [
       "   TotalAmount  BikePurchase  CustomerID    Country CountryRegionCode  \\\n",
       "0         8139             1       11003  Australia                AU   \n",
       "1         2994             1       14501  Southwest                US   \n",
       "2         4118             1       21768     Canada                CA   \n",
       "3         4631             1       25863  Northwest                US   \n",
       "4         3399             1       28389     France                FR   \n",
       "5         8121             1       11005  Australia                AU   \n",
       "6         8133             1       11011  Australia                AU   \n",
       "7         5938             1       16624  Australia                AU   \n",
       "8         6051             1       27645  Southwest                US   \n",
       "9         5873             1       16351  Australia                AU   \n",
       "\n",
       "           Group  PersonID PersonType  DateFirstPurchase  BirthDate  Age  \\\n",
       "0        Pacific     11358         IN              37073      24883   52   \n",
       "1  North America     11211         IN              37073      14013   82   \n",
       "2  North America     14078         IN              37073      17036   74   \n",
       "3  North America     10553         IN              37073      17139   74   \n",
       "4         Europe     15519         IN              37073      23729   56   \n",
       "5        Pacific      6990         IN              37074      23959   55   \n",
       "6        Pacific     18258         IN              37074      23319   57   \n",
       "7        Pacific     14897         IN              37074      26507   48   \n",
       "8  North America     13514         IN              37074      22511   59   \n",
       "9        Pacific      4916         IN              37075      19912   66   \n",
       "\n",
       "  MaritalStatus         YearlyIncome Gender  TotalChildren        Education  \\\n",
       "0             S          50001-75000      F              0       Bachelors    \n",
       "1             M         75001-100000      M              4  Graduate Degree   \n",
       "2             S          50001-75000      M              5       Bachelors    \n",
       "3             S          25001-50000      F              5      High School   \n",
       "4             S              0-25000      F              3      High School   \n",
       "5             S          50001-75000      M              0       Bachelors    \n",
       "6             M          50001-75000      M              4       Bachelors    \n",
       "7             S         75001-100000      M              0       Bachelors    \n",
       "8             M  greater than 100000      M              1      High School   \n",
       "9             S         75001-100000      F              2  Partial College   \n",
       "\n",
       "       Occupation  HomeOwnerFlag  NumberCarsOwned  \n",
       "0    Professional              0                1  \n",
       "1      Management              1                2  \n",
       "2      Management              1                3  \n",
       "3    Professional              1                3  \n",
       "4          Manual              0                0  \n",
       "5    Professional              1                1  \n",
       "6    Professional              1                4  \n",
       "7    Professional              0                3  \n",
       "8    Professional              1                4  \n",
       "9  Skilled Manual              0                2  "
      ]
     },
     "execution_count": 14,
     "metadata": {},
     "output_type": "execute_result"
    }
   ],
   "source": [
    "#Visualizacion previa del DataFrame\n",
    "df_var.head(10)"
   ]
  },
  {
   "cell_type": "markdown",
   "id": "9b6f636e-46ca-4321-9e65-94a812cdced4",
   "metadata": {},
   "source": [
    "## 1 Análisis exploratorio de los datos"
   ]
  },
  {
   "cell_type": "code",
   "execution_count": 17,
   "id": "acdefdfc-1cd1-4c34-8dcd-f76259943125",
   "metadata": {},
   "outputs": [
    {
     "data": {
      "text/plain": [
       "Index(['TotalAmount', 'BikePurchase', 'CustomerID', 'Country',\n",
       "       'CountryRegionCode', 'Group', 'PersonID', 'PersonType',\n",
       "       'DateFirstPurchase', 'BirthDate', 'Age', 'MaritalStatus',\n",
       "       'YearlyIncome', 'Gender', 'TotalChildren', 'Education', 'Occupation',\n",
       "       'HomeOwnerFlag', 'NumberCarsOwned'],\n",
       "      dtype='object')"
      ]
     },
     "execution_count": 17,
     "metadata": {},
     "output_type": "execute_result"
    }
   ],
   "source": [
    "# ¿Que columnas tienen los datos?\n",
    "df_var.columns"
   ]
  },
  {
   "cell_type": "code",
   "execution_count": 19,
   "id": "f26908f1-9157-4565-b962-87c99644eacd",
   "metadata": {},
   "outputs": [
    {
     "data": {
      "text/plain": [
       "(18484, 19)"
      ]
     },
     "execution_count": 19,
     "metadata": {},
     "output_type": "execute_result"
    }
   ],
   "source": [
    "# ¿Que tamaño tienen los datos?\n",
    "df_var.shape"
   ]
  },
  {
   "cell_type": "code",
   "execution_count": 21,
   "id": "ccddfb57-3632-44e1-9076-571b2720d272",
   "metadata": {},
   "outputs": [
    {
     "name": "stdout",
     "output_type": "stream",
     "text": [
      "<class 'pandas.core.frame.DataFrame'>\n",
      "RangeIndex: 18484 entries, 0 to 18483\n",
      "Data columns (total 19 columns):\n",
      " #   Column             Non-Null Count  Dtype \n",
      "---  ------             --------------  ----- \n",
      " 0   TotalAmount        18484 non-null  int64 \n",
      " 1   BikePurchase       18484 non-null  int64 \n",
      " 2   CustomerID         18484 non-null  int64 \n",
      " 3   Country            18484 non-null  object\n",
      " 4   CountryRegionCode  18484 non-null  object\n",
      " 5   Group              18484 non-null  object\n",
      " 6   PersonID           18484 non-null  int64 \n",
      " 7   PersonType         18484 non-null  object\n",
      " 8   DateFirstPurchase  18484 non-null  int64 \n",
      " 9   BirthDate          18484 non-null  int64 \n",
      " 10  Age                18484 non-null  int64 \n",
      " 11  MaritalStatus      18484 non-null  object\n",
      " 12  YearlyIncome       18484 non-null  object\n",
      " 13  Gender             18484 non-null  object\n",
      " 14  TotalChildren      18484 non-null  int64 \n",
      " 15  Education          18484 non-null  object\n",
      " 16  Occupation         18484 non-null  object\n",
      " 17  HomeOwnerFlag      18484 non-null  int64 \n",
      " 18  NumberCarsOwned    18484 non-null  int64 \n",
      "dtypes: int64(10), object(9)\n",
      "memory usage: 2.7+ MB\n"
     ]
    }
   ],
   "source": [
    "# ¿Hay valores nulos en los datos?\n",
    "df_var.info()"
   ]
  },
  {
   "cell_type": "markdown",
   "id": "3918ac5d-0398-47c4-94e8-94109e7d7e38",
   "metadata": {},
   "source": [
    "* No se tienen datos nulos en el DataFrame por ende nos saltamos el paso de limpieza de datos nulos"
   ]
  },
  {
   "cell_type": "code",
   "execution_count": 24,
   "id": "f407f4b4-bafa-4ebb-8a4f-4140cba4914f",
   "metadata": {},
   "outputs": [
    {
     "data": {
      "text/html": [
       "<div>\n",
       "<style scoped>\n",
       "    .dataframe tbody tr th:only-of-type {\n",
       "        vertical-align: middle;\n",
       "    }\n",
       "\n",
       "    .dataframe tbody tr th {\n",
       "        vertical-align: top;\n",
       "    }\n",
       "\n",
       "    .dataframe thead th {\n",
       "        text-align: right;\n",
       "    }\n",
       "</style>\n",
       "<table border=\"1\" class=\"dataframe\">\n",
       "  <thead>\n",
       "    <tr style=\"text-align: right;\">\n",
       "      <th></th>\n",
       "      <th>Country</th>\n",
       "      <th>CountryRegionCode</th>\n",
       "      <th>Group</th>\n",
       "      <th>PersonType</th>\n",
       "      <th>MaritalStatus</th>\n",
       "      <th>YearlyIncome</th>\n",
       "      <th>Gender</th>\n",
       "      <th>Education</th>\n",
       "      <th>Occupation</th>\n",
       "    </tr>\n",
       "  </thead>\n",
       "  <tbody>\n",
       "    <tr>\n",
       "      <th>count</th>\n",
       "      <td>18484</td>\n",
       "      <td>18484</td>\n",
       "      <td>18484</td>\n",
       "      <td>18484</td>\n",
       "      <td>18484</td>\n",
       "      <td>18484</td>\n",
       "      <td>18484</td>\n",
       "      <td>18484</td>\n",
       "      <td>18484</td>\n",
       "    </tr>\n",
       "    <tr>\n",
       "      <th>unique</th>\n",
       "      <td>10</td>\n",
       "      <td>6</td>\n",
       "      <td>3</td>\n",
       "      <td>1</td>\n",
       "      <td>2</td>\n",
       "      <td>5</td>\n",
       "      <td>2</td>\n",
       "      <td>5</td>\n",
       "      <td>5</td>\n",
       "    </tr>\n",
       "    <tr>\n",
       "      <th>top</th>\n",
       "      <td>Southwest</td>\n",
       "      <td>US</td>\n",
       "      <td>North America</td>\n",
       "      <td>IN</td>\n",
       "      <td>M</td>\n",
       "      <td>25001-50000</td>\n",
       "      <td>M</td>\n",
       "      <td>Bachelors</td>\n",
       "      <td>Professional</td>\n",
       "    </tr>\n",
       "    <tr>\n",
       "      <th>freq</th>\n",
       "      <td>4450</td>\n",
       "      <td>7819</td>\n",
       "      <td>9390</td>\n",
       "      <td>18484</td>\n",
       "      <td>10011</td>\n",
       "      <td>5704</td>\n",
       "      <td>9351</td>\n",
       "      <td>5356</td>\n",
       "      <td>5520</td>\n",
       "    </tr>\n",
       "  </tbody>\n",
       "</table>\n",
       "</div>"
      ],
      "text/plain": [
       "          Country CountryRegionCode          Group PersonType MaritalStatus  \\\n",
       "count       18484             18484          18484      18484         18484   \n",
       "unique         10                 6              3          1             2   \n",
       "top     Southwest                US  North America         IN             M   \n",
       "freq         4450              7819           9390      18484         10011   \n",
       "\n",
       "       YearlyIncome Gender   Education    Occupation  \n",
       "count         18484  18484       18484         18484  \n",
       "unique            5      2           5             5  \n",
       "top     25001-50000      M  Bachelors   Professional  \n",
       "freq           5704   9351        5356          5520  "
      ]
     },
     "execution_count": 24,
     "metadata": {},
     "output_type": "execute_result"
    }
   ],
   "source": [
    "# Como se comportan las variables categoricas\n",
    "df_var.describe(include=['O'])"
   ]
  },
  {
   "cell_type": "markdown",
   "id": "4d62f73d-c1cc-4568-9a8b-0afa64c2d19d",
   "metadata": {},
   "source": [
    "* Dada la descripción anterior seleccionamos las variables con las que vamos a trabajar el modelo de clasificación:"
   ]
  },
  {
   "cell_type": "code",
   "execution_count": 27,
   "id": "d2943f7e-3cbe-414b-be75-9986479bd955",
   "metadata": {},
   "outputs": [],
   "source": [
    "df_var1 = df_var[['BikePurchase','Occupation','MaritalStatus','Age','Gender','NumberCarsOwned','Education','TotalChildren','YearlyIncome','TotalAmount']]"
   ]
  },
  {
   "cell_type": "code",
   "execution_count": 29,
   "id": "cc069e00-901e-4f0a-8f88-33ec2fc27697",
   "metadata": {},
   "outputs": [
    {
     "data": {
      "text/html": [
       "<div>\n",
       "<style scoped>\n",
       "    .dataframe tbody tr th:only-of-type {\n",
       "        vertical-align: middle;\n",
       "    }\n",
       "\n",
       "    .dataframe tbody tr th {\n",
       "        vertical-align: top;\n",
       "    }\n",
       "\n",
       "    .dataframe thead th {\n",
       "        text-align: right;\n",
       "    }\n",
       "</style>\n",
       "<table border=\"1\" class=\"dataframe\">\n",
       "  <thead>\n",
       "    <tr style=\"text-align: right;\">\n",
       "      <th></th>\n",
       "      <th>BikePurchase</th>\n",
       "      <th>Occupation</th>\n",
       "      <th>MaritalStatus</th>\n",
       "      <th>Age</th>\n",
       "      <th>Gender</th>\n",
       "      <th>NumberCarsOwned</th>\n",
       "      <th>Education</th>\n",
       "      <th>TotalChildren</th>\n",
       "      <th>YearlyIncome</th>\n",
       "      <th>TotalAmount</th>\n",
       "    </tr>\n",
       "  </thead>\n",
       "  <tbody>\n",
       "    <tr>\n",
       "      <th>0</th>\n",
       "      <td>1</td>\n",
       "      <td>Professional</td>\n",
       "      <td>S</td>\n",
       "      <td>52</td>\n",
       "      <td>F</td>\n",
       "      <td>1</td>\n",
       "      <td>Bachelors</td>\n",
       "      <td>0</td>\n",
       "      <td>50001-75000</td>\n",
       "      <td>8139</td>\n",
       "    </tr>\n",
       "    <tr>\n",
       "      <th>1</th>\n",
       "      <td>1</td>\n",
       "      <td>Management</td>\n",
       "      <td>M</td>\n",
       "      <td>82</td>\n",
       "      <td>M</td>\n",
       "      <td>2</td>\n",
       "      <td>Graduate Degree</td>\n",
       "      <td>4</td>\n",
       "      <td>75001-100000</td>\n",
       "      <td>2994</td>\n",
       "    </tr>\n",
       "    <tr>\n",
       "      <th>2</th>\n",
       "      <td>1</td>\n",
       "      <td>Management</td>\n",
       "      <td>S</td>\n",
       "      <td>74</td>\n",
       "      <td>M</td>\n",
       "      <td>3</td>\n",
       "      <td>Bachelors</td>\n",
       "      <td>5</td>\n",
       "      <td>50001-75000</td>\n",
       "      <td>4118</td>\n",
       "    </tr>\n",
       "    <tr>\n",
       "      <th>3</th>\n",
       "      <td>1</td>\n",
       "      <td>Professional</td>\n",
       "      <td>S</td>\n",
       "      <td>74</td>\n",
       "      <td>F</td>\n",
       "      <td>3</td>\n",
       "      <td>High School</td>\n",
       "      <td>5</td>\n",
       "      <td>25001-50000</td>\n",
       "      <td>4631</td>\n",
       "    </tr>\n",
       "    <tr>\n",
       "      <th>4</th>\n",
       "      <td>1</td>\n",
       "      <td>Manual</td>\n",
       "      <td>S</td>\n",
       "      <td>56</td>\n",
       "      <td>F</td>\n",
       "      <td>0</td>\n",
       "      <td>High School</td>\n",
       "      <td>3</td>\n",
       "      <td>0-25000</td>\n",
       "      <td>3399</td>\n",
       "    </tr>\n",
       "    <tr>\n",
       "      <th>5</th>\n",
       "      <td>1</td>\n",
       "      <td>Professional</td>\n",
       "      <td>S</td>\n",
       "      <td>55</td>\n",
       "      <td>M</td>\n",
       "      <td>1</td>\n",
       "      <td>Bachelors</td>\n",
       "      <td>0</td>\n",
       "      <td>50001-75000</td>\n",
       "      <td>8121</td>\n",
       "    </tr>\n",
       "    <tr>\n",
       "      <th>6</th>\n",
       "      <td>1</td>\n",
       "      <td>Professional</td>\n",
       "      <td>M</td>\n",
       "      <td>57</td>\n",
       "      <td>M</td>\n",
       "      <td>4</td>\n",
       "      <td>Bachelors</td>\n",
       "      <td>4</td>\n",
       "      <td>50001-75000</td>\n",
       "      <td>8133</td>\n",
       "    </tr>\n",
       "    <tr>\n",
       "      <th>7</th>\n",
       "      <td>1</td>\n",
       "      <td>Professional</td>\n",
       "      <td>S</td>\n",
       "      <td>48</td>\n",
       "      <td>M</td>\n",
       "      <td>3</td>\n",
       "      <td>Bachelors</td>\n",
       "      <td>0</td>\n",
       "      <td>75001-100000</td>\n",
       "      <td>5938</td>\n",
       "    </tr>\n",
       "    <tr>\n",
       "      <th>8</th>\n",
       "      <td>1</td>\n",
       "      <td>Professional</td>\n",
       "      <td>M</td>\n",
       "      <td>59</td>\n",
       "      <td>M</td>\n",
       "      <td>4</td>\n",
       "      <td>High School</td>\n",
       "      <td>1</td>\n",
       "      <td>greater than 100000</td>\n",
       "      <td>6051</td>\n",
       "    </tr>\n",
       "    <tr>\n",
       "      <th>9</th>\n",
       "      <td>1</td>\n",
       "      <td>Skilled Manual</td>\n",
       "      <td>S</td>\n",
       "      <td>66</td>\n",
       "      <td>F</td>\n",
       "      <td>2</td>\n",
       "      <td>Partial College</td>\n",
       "      <td>2</td>\n",
       "      <td>75001-100000</td>\n",
       "      <td>5873</td>\n",
       "    </tr>\n",
       "  </tbody>\n",
       "</table>\n",
       "</div>"
      ],
      "text/plain": [
       "   BikePurchase      Occupation MaritalStatus  Age Gender  NumberCarsOwned  \\\n",
       "0             1    Professional             S   52      F                1   \n",
       "1             1      Management             M   82      M                2   \n",
       "2             1      Management             S   74      M                3   \n",
       "3             1    Professional             S   74      F                3   \n",
       "4             1          Manual             S   56      F                0   \n",
       "5             1    Professional             S   55      M                1   \n",
       "6             1    Professional             M   57      M                4   \n",
       "7             1    Professional             S   48      M                3   \n",
       "8             1    Professional             M   59      M                4   \n",
       "9             1  Skilled Manual             S   66      F                2   \n",
       "\n",
       "         Education  TotalChildren         YearlyIncome  TotalAmount  \n",
       "0       Bachelors               0          50001-75000         8139  \n",
       "1  Graduate Degree              4         75001-100000         2994  \n",
       "2       Bachelors               5          50001-75000         4118  \n",
       "3      High School              5          25001-50000         4631  \n",
       "4      High School              3              0-25000         3399  \n",
       "5       Bachelors               0          50001-75000         8121  \n",
       "6       Bachelors               4          50001-75000         8133  \n",
       "7       Bachelors               0         75001-100000         5938  \n",
       "8      High School              1  greater than 100000         6051  \n",
       "9  Partial College              2         75001-100000         5873  "
      ]
     },
     "execution_count": 29,
     "metadata": {},
     "output_type": "execute_result"
    }
   ],
   "source": [
    "df_var1.head(10)"
   ]
  },
  {
   "cell_type": "markdown",
   "id": "ab9e049b-73cf-42ab-810c-4cbddde117bd",
   "metadata": {},
   "source": [
    "* Procederemos a realizar a conversión de algunas variables categóricas a variables dicotómicas, ya que el modelo solo acepta valores int, float o numeric"
   ]
  },
  {
   "cell_type": "markdown",
   "id": "06f2d5a2-3d7f-4cea-8b2f-7577d54e7018",
   "metadata": {},
   "source": [
    "* Para la variable **Occupation** tenemos las siguientes categorias:\n",
    "  + Professional\n",
    "  + Management\n",
    "  + Manual\n",
    "  + Skilled Manual\n",
    "  + Clerical\n",
    " \n",
    "Que en variables númericas pasarián a estar clasificadas como: \n",
    "\n",
    "  + Professional:   1\n",
    "  + Management:     2\n",
    "  + Manual:         3\n",
    "  + Skilled Manual: 4\n",
    "  + Clerical:       5\n",
    "\n"
   ]
  },
  {
   "cell_type": "code",
   "execution_count": 33,
   "id": "5cb4cb35-7318-449a-b8b5-5c8b1011b332",
   "metadata": {},
   "outputs": [],
   "source": [
    "df_var1['Occupation'] = df_var1['Occupation'].map({'Professional': 1, 'Management': 2, 'Manual': 3, \n",
    "                                                   'Skilled Manual': 4, 'Clerical': 5}).astype(int)"
   ]
  },
  {
   "cell_type": "code",
   "execution_count": 35,
   "id": "556bddbd-53e2-45cf-b4d5-e9890c18a0ca",
   "metadata": {},
   "outputs": [
    {
     "data": {
      "text/html": [
       "<div>\n",
       "<style scoped>\n",
       "    .dataframe tbody tr th:only-of-type {\n",
       "        vertical-align: middle;\n",
       "    }\n",
       "\n",
       "    .dataframe tbody tr th {\n",
       "        vertical-align: top;\n",
       "    }\n",
       "\n",
       "    .dataframe thead th {\n",
       "        text-align: right;\n",
       "    }\n",
       "</style>\n",
       "<table border=\"1\" class=\"dataframe\">\n",
       "  <thead>\n",
       "    <tr style=\"text-align: right;\">\n",
       "      <th></th>\n",
       "      <th>BikePurchase</th>\n",
       "      <th>Occupation</th>\n",
       "      <th>MaritalStatus</th>\n",
       "      <th>Age</th>\n",
       "      <th>Gender</th>\n",
       "      <th>NumberCarsOwned</th>\n",
       "      <th>Education</th>\n",
       "      <th>TotalChildren</th>\n",
       "      <th>YearlyIncome</th>\n",
       "      <th>TotalAmount</th>\n",
       "    </tr>\n",
       "  </thead>\n",
       "  <tbody>\n",
       "    <tr>\n",
       "      <th>0</th>\n",
       "      <td>1</td>\n",
       "      <td>1</td>\n",
       "      <td>S</td>\n",
       "      <td>52</td>\n",
       "      <td>F</td>\n",
       "      <td>1</td>\n",
       "      <td>Bachelors</td>\n",
       "      <td>0</td>\n",
       "      <td>50001-75000</td>\n",
       "      <td>8139</td>\n",
       "    </tr>\n",
       "    <tr>\n",
       "      <th>1</th>\n",
       "      <td>1</td>\n",
       "      <td>2</td>\n",
       "      <td>M</td>\n",
       "      <td>82</td>\n",
       "      <td>M</td>\n",
       "      <td>2</td>\n",
       "      <td>Graduate Degree</td>\n",
       "      <td>4</td>\n",
       "      <td>75001-100000</td>\n",
       "      <td>2994</td>\n",
       "    </tr>\n",
       "    <tr>\n",
       "      <th>2</th>\n",
       "      <td>1</td>\n",
       "      <td>2</td>\n",
       "      <td>S</td>\n",
       "      <td>74</td>\n",
       "      <td>M</td>\n",
       "      <td>3</td>\n",
       "      <td>Bachelors</td>\n",
       "      <td>5</td>\n",
       "      <td>50001-75000</td>\n",
       "      <td>4118</td>\n",
       "    </tr>\n",
       "    <tr>\n",
       "      <th>3</th>\n",
       "      <td>1</td>\n",
       "      <td>1</td>\n",
       "      <td>S</td>\n",
       "      <td>74</td>\n",
       "      <td>F</td>\n",
       "      <td>3</td>\n",
       "      <td>High School</td>\n",
       "      <td>5</td>\n",
       "      <td>25001-50000</td>\n",
       "      <td>4631</td>\n",
       "    </tr>\n",
       "    <tr>\n",
       "      <th>4</th>\n",
       "      <td>1</td>\n",
       "      <td>3</td>\n",
       "      <td>S</td>\n",
       "      <td>56</td>\n",
       "      <td>F</td>\n",
       "      <td>0</td>\n",
       "      <td>High School</td>\n",
       "      <td>3</td>\n",
       "      <td>0-25000</td>\n",
       "      <td>3399</td>\n",
       "    </tr>\n",
       "  </tbody>\n",
       "</table>\n",
       "</div>"
      ],
      "text/plain": [
       "   BikePurchase  Occupation MaritalStatus  Age Gender  NumberCarsOwned  \\\n",
       "0             1           1             S   52      F                1   \n",
       "1             1           2             M   82      M                2   \n",
       "2             1           2             S   74      M                3   \n",
       "3             1           1             S   74      F                3   \n",
       "4             1           3             S   56      F                0   \n",
       "\n",
       "         Education  TotalChildren  YearlyIncome  TotalAmount  \n",
       "0       Bachelors               0   50001-75000         8139  \n",
       "1  Graduate Degree              4  75001-100000         2994  \n",
       "2       Bachelors               5   50001-75000         4118  \n",
       "3      High School              5   25001-50000         4631  \n",
       "4      High School              3       0-25000         3399  "
      ]
     },
     "execution_count": 35,
     "metadata": {},
     "output_type": "execute_result"
    }
   ],
   "source": [
    "df_var1.head()"
   ]
  },
  {
   "cell_type": "markdown",
   "id": "ead4f16c-b8a3-4ed8-a60a-1f777c771ee0",
   "metadata": {},
   "source": [
    "* Para la variable **MaritalStatus** tenemos las siguientes categorias:\n",
    "   + M\n",
    "   + S\n",
    "\n",
    "Que en variables dicotómicas pasarián a estar clasificadas como:\n",
    "\n",
    "  + M: 1\n",
    "  + S: 0\n"
   ]
  },
  {
   "cell_type": "code",
   "execution_count": 38,
   "id": "cbb7be25-12c0-4ebf-9705-714a9cd162db",
   "metadata": {},
   "outputs": [],
   "source": [
    "df_var1['MaritalStatus'] = df_var1['MaritalStatus'].map({'M': 1, 'S': 0 }).astype(int)"
   ]
  },
  {
   "cell_type": "markdown",
   "id": "10395daa-bb3d-42bd-aadb-9e8fafd4bfc2",
   "metadata": {},
   "source": [
    "df_var1.head()"
   ]
  },
  {
   "cell_type": "markdown",
   "id": "5c8a127a-57dc-4f7a-9441-64d1a7bc09d8",
   "metadata": {},
   "source": [
    "* Para la variable **Gender** tenemos las siguientes categorias:\n",
    "   + F\n",
    "   + M\n",
    "\n",
    "Que en variables dicótomicas pasarian a estar clasificadas como:\n",
    "\n",
    "   + F: 1\n",
    "   + M: 0"
   ]
  },
  {
   "cell_type": "code",
   "execution_count": 42,
   "id": "189b0307-337c-4860-ad9b-f8be777c5963",
   "metadata": {},
   "outputs": [],
   "source": [
    "df_var1['Gender'] = df_var1['Gender'].map({'F': 1, 'M': 0 }).astype(int)"
   ]
  },
  {
   "cell_type": "markdown",
   "id": "8e65178f-315b-46a5-b610-2276b3456eb4",
   "metadata": {},
   "source": [
    "* Para la variable **Education** tenemos las siguientes categorias:\n",
    "  + Bachelors\n",
    "  + Graduate Degree\n",
    "  + High School\n",
    "  + Partial College\n",
    "  + Partial High School\n",
    "\n",
    "Que en variables numericas pasarian a estar clasificadas como:\n",
    "\n",
    "  + Bachelors: 1\n",
    "  + Graduate Degree: 2\n",
    "  + High School: 3\n",
    "  + Partial College: 4\n",
    "  + Partial High School: 5"
   ]
  },
  {
   "cell_type": "code",
   "execution_count": 45,
   "id": "6089b39f-2dc8-4f55-8299-dae8bb5ff363",
   "metadata": {},
   "outputs": [],
   "source": [
    "# Eliminamos espacios al inicio o final de la categria\n",
    "df_var1['Education'] = df_var1['Education'].str.strip()"
   ]
  },
  {
   "cell_type": "code",
   "execution_count": 47,
   "id": "ad76aab6-50b9-4dc0-b8bb-6c02d4cb7a17",
   "metadata": {},
   "outputs": [],
   "source": [
    "df_var1['Education'] = df_var1['Education'].map({'Bachelors': 1, 'Graduate Degree': 2, 'High School': 3, \n",
    "                                                'Partial College': 4, 'Partial High School': 5}).astype(int)"
   ]
  },
  {
   "cell_type": "markdown",
   "id": "0bd1ddd3-1a8a-46bb-a25e-4eee8ed8d8b7",
   "metadata": {},
   "source": [
    "* Para la variable **YearlyIncome** tenemos las siguientes categorias:\n",
    "  + 0-25000\n",
    "  + 25001-50000\n",
    "  + 50001-75000\n",
    "  + 75001-100000\n",
    "  + greater than 100000\n",
    "\n",
    "Que en variables numericas pasarian a estar clasificadas como:\n",
    "\n",
    "  + 0-25000 : 1\n",
    "  + 25001-50000: 2\n",
    "  + 50001-75000: 3\n",
    "  + 75001-100000: 4\n",
    "  + greater than 100000: 5"
   ]
  },
  {
   "cell_type": "code",
   "execution_count": 50,
   "id": "7094294d-bd1c-4d98-a318-a6cf0888afef",
   "metadata": {},
   "outputs": [],
   "source": [
    "# Eliminamos espacios al inicio o final de la categria\n",
    "df_var1['YearlyIncome'] = df_var1['YearlyIncome'].str.strip()"
   ]
  },
  {
   "cell_type": "code",
   "execution_count": 52,
   "id": "92a11332-7cf4-43b8-a444-823087c306b3",
   "metadata": {},
   "outputs": [],
   "source": [
    "df_var1['YearlyIncome'] = df_var1['YearlyIncome'].map({'0-25000': 1, '25001-50000': 2, '50001-75000': 3, \n",
    "                                                '75001-100000': 4, 'greater than 100000': 5}).astype(int)"
   ]
  },
  {
   "cell_type": "code",
   "execution_count": 54,
   "id": "2d2218ac-da28-4c00-9886-6fa4767b0dfc",
   "metadata": {},
   "outputs": [
    {
     "name": "stdout",
     "output_type": "stream",
     "text": [
      "<class 'pandas.core.frame.DataFrame'>\n",
      "RangeIndex: 18484 entries, 0 to 18483\n",
      "Data columns (total 10 columns):\n",
      " #   Column           Non-Null Count  Dtype\n",
      "---  ------           --------------  -----\n",
      " 0   BikePurchase     18484 non-null  int64\n",
      " 1   Occupation       18484 non-null  int32\n",
      " 2   MaritalStatus    18484 non-null  int32\n",
      " 3   Age              18484 non-null  int64\n",
      " 4   Gender           18484 non-null  int32\n",
      " 5   NumberCarsOwned  18484 non-null  int64\n",
      " 6   Education        18484 non-null  int32\n",
      " 7   TotalChildren    18484 non-null  int64\n",
      " 8   YearlyIncome     18484 non-null  int32\n",
      " 9   TotalAmount      18484 non-null  int64\n",
      "dtypes: int32(5), int64(5)\n",
      "memory usage: 1.1 MB\n"
     ]
    }
   ],
   "source": [
    "df_var1.info()"
   ]
  },
  {
   "cell_type": "code",
   "execution_count": 56,
   "id": "0f88b0ca-da09-4d96-b7a7-b3e0169fa45a",
   "metadata": {},
   "outputs": [
    {
     "data": {
      "text/plain": [
       "BikePurchase       int64\n",
       "Occupation         int32\n",
       "MaritalStatus      int32\n",
       "Age                int64\n",
       "Gender             int32\n",
       "NumberCarsOwned    int64\n",
       "Education          int32\n",
       "TotalChildren      int64\n",
       "YearlyIncome       int32\n",
       "TotalAmount        int64\n",
       "dtype: object"
      ]
     },
     "execution_count": 56,
     "metadata": {},
     "output_type": "execute_result"
    }
   ],
   "source": [
    "df_var1.dtypes"
   ]
  },
  {
   "cell_type": "markdown",
   "id": "6154589e-9e75-4621-b48d-a85ae21bc7c5",
   "metadata": {},
   "source": [
    "## 2. Del DataFrame procedemos a separar los datos para el modelo (Datos de entrenamiento y Datos de prueba)"
   ]
  },
  {
   "cell_type": "code",
   "execution_count": 59,
   "id": "bc75e3ea-eee8-41fd-9f60-f8e1050b73d7",
   "metadata": {},
   "outputs": [],
   "source": [
    "# Importamos las librerias para dividir el dataset\n",
    "from sklearn.model_selection import train_test_split\n"
   ]
  },
  {
   "cell_type": "markdown",
   "id": "3869cd0d-aea2-44a8-829b-424a91a2ac28",
   "metadata": {},
   "source": [
    "* Asigaremos un 30% del DataFrame para la parte de prueba y un 70% para la parte de entrenamiento:"
   ]
  },
  {
   "cell_type": "code",
   "execution_count": 62,
   "id": "5e23c595-0313-4018-83db-6a1e66d7900e",
   "metadata": {},
   "outputs": [],
   "source": [
    "X_train, X_test, y_train, y_test = train_test_split(\n",
    "                                        df_var1.drop(columns = 'BikePurchase'),\n",
    "                                        df_var1['BikePurchase'],\n",
    "                                        test_size=0.30,\n",
    "                                        random_state = 123\n",
    "                                    )"
   ]
  },
  {
   "cell_type": "markdown",
   "id": "31fddbc8-20dd-4c24-a0c8-959ee5ccce05",
   "metadata": {},
   "source": [
    "## 3. Creación del modelo"
   ]
  },
  {
   "cell_type": "code",
   "execution_count": 65,
   "id": "3999b763-8854-438e-884a-af37d918d600",
   "metadata": {},
   "outputs": [],
   "source": [
    "# Librerias para la creación del modelo\n",
    "from sklearn.tree import DecisionTreeClassifier\n",
    "from sklearn.model_selection import GridSearchCV"
   ]
  },
  {
   "cell_type": "markdown",
   "id": "554dd5ec-f0d1-4807-adc3-0a516c528a41",
   "metadata": {},
   "source": [
    "* Para los modelos de árbol de decisión de clasificación se debe definir el clasificador y los valores de los hiperparametros a probar, como se realizara a continuación:"
   ]
  },
  {
   "cell_type": "code",
   "execution_count": 68,
   "id": "01a3b168-7e19-4ca2-b41e-6aea4a5800ad",
   "metadata": {},
   "outputs": [],
   "source": [
    "clasi = DecisionTreeClassifier(random_state=42)\n",
    "param_grid = {'criterion': ['gini', 'entropy'], 'max_depth': [2, 3, 4, 5]}"
   ]
  },
  {
   "cell_type": "markdown",
   "id": "488e47a2-cb64-4781-8d37-320f7cc2a8ff",
   "metadata": {},
   "source": [
    "* Seguido a esto, realizaremos la busqueda de los mejores hiperparametros"
   ]
  },
  {
   "cell_type": "code",
   "execution_count": 71,
   "id": "717b814e-196d-4ffc-a783-fb6752f7c388",
   "metadata": {},
   "outputs": [
    {
     "data": {
      "text/html": [
       "<style>#sk-container-id-1 {color: black;background-color: white;}#sk-container-id-1 pre{padding: 0;}#sk-container-id-1 div.sk-toggleable {background-color: white;}#sk-container-id-1 label.sk-toggleable__label {cursor: pointer;display: block;width: 100%;margin-bottom: 0;padding: 0.3em;box-sizing: border-box;text-align: center;}#sk-container-id-1 label.sk-toggleable__label-arrow:before {content: \"▸\";float: left;margin-right: 0.25em;color: #696969;}#sk-container-id-1 label.sk-toggleable__label-arrow:hover:before {color: black;}#sk-container-id-1 div.sk-estimator:hover label.sk-toggleable__label-arrow:before {color: black;}#sk-container-id-1 div.sk-toggleable__content {max-height: 0;max-width: 0;overflow: hidden;text-align: left;background-color: #f0f8ff;}#sk-container-id-1 div.sk-toggleable__content pre {margin: 0.2em;color: black;border-radius: 0.25em;background-color: #f0f8ff;}#sk-container-id-1 input.sk-toggleable__control:checked~div.sk-toggleable__content {max-height: 200px;max-width: 100%;overflow: auto;}#sk-container-id-1 input.sk-toggleable__control:checked~label.sk-toggleable__label-arrow:before {content: \"▾\";}#sk-container-id-1 div.sk-estimator input.sk-toggleable__control:checked~label.sk-toggleable__label {background-color: #d4ebff;}#sk-container-id-1 div.sk-label input.sk-toggleable__control:checked~label.sk-toggleable__label {background-color: #d4ebff;}#sk-container-id-1 input.sk-hidden--visually {border: 0;clip: rect(1px 1px 1px 1px);clip: rect(1px, 1px, 1px, 1px);height: 1px;margin: -1px;overflow: hidden;padding: 0;position: absolute;width: 1px;}#sk-container-id-1 div.sk-estimator {font-family: monospace;background-color: #f0f8ff;border: 1px dotted black;border-radius: 0.25em;box-sizing: border-box;margin-bottom: 0.5em;}#sk-container-id-1 div.sk-estimator:hover {background-color: #d4ebff;}#sk-container-id-1 div.sk-parallel-item::after {content: \"\";width: 100%;border-bottom: 1px solid gray;flex-grow: 1;}#sk-container-id-1 div.sk-label:hover label.sk-toggleable__label {background-color: #d4ebff;}#sk-container-id-1 div.sk-serial::before {content: \"\";position: absolute;border-left: 1px solid gray;box-sizing: border-box;top: 0;bottom: 0;left: 50%;z-index: 0;}#sk-container-id-1 div.sk-serial {display: flex;flex-direction: column;align-items: center;background-color: white;padding-right: 0.2em;padding-left: 0.2em;position: relative;}#sk-container-id-1 div.sk-item {position: relative;z-index: 1;}#sk-container-id-1 div.sk-parallel {display: flex;align-items: stretch;justify-content: center;background-color: white;position: relative;}#sk-container-id-1 div.sk-item::before, #sk-container-id-1 div.sk-parallel-item::before {content: \"\";position: absolute;border-left: 1px solid gray;box-sizing: border-box;top: 0;bottom: 0;left: 50%;z-index: -1;}#sk-container-id-1 div.sk-parallel-item {display: flex;flex-direction: column;z-index: 1;position: relative;background-color: white;}#sk-container-id-1 div.sk-parallel-item:first-child::after {align-self: flex-end;width: 50%;}#sk-container-id-1 div.sk-parallel-item:last-child::after {align-self: flex-start;width: 50%;}#sk-container-id-1 div.sk-parallel-item:only-child::after {width: 0;}#sk-container-id-1 div.sk-dashed-wrapped {border: 1px dashed gray;margin: 0 0.4em 0.5em 0.4em;box-sizing: border-box;padding-bottom: 0.4em;background-color: white;}#sk-container-id-1 div.sk-label label {font-family: monospace;font-weight: bold;display: inline-block;line-height: 1.2em;}#sk-container-id-1 div.sk-label-container {text-align: center;}#sk-container-id-1 div.sk-container {/* jupyter's `normalize.less` sets `[hidden] { display: none; }` but bootstrap.min.css set `[hidden] { display: none !important; }` so we also need the `!important` here to be able to override the default hidden behavior on the sphinx rendered scikit-learn.org. See: https://github.com/scikit-learn/scikit-learn/issues/21755 */display: inline-block !important;position: relative;}#sk-container-id-1 div.sk-text-repr-fallback {display: none;}</style><div id=\"sk-container-id-1\" class=\"sk-top-container\"><div class=\"sk-text-repr-fallback\"><pre>GridSearchCV(cv=10, estimator=DecisionTreeClassifier(random_state=42),\n",
       "             param_grid={&#x27;criterion&#x27;: [&#x27;gini&#x27;, &#x27;entropy&#x27;],\n",
       "                         &#x27;max_depth&#x27;: [2, 3, 4, 5]},\n",
       "             return_train_score=True)</pre><b>In a Jupyter environment, please rerun this cell to show the HTML representation or trust the notebook. <br />On GitHub, the HTML representation is unable to render, please try loading this page with nbviewer.org.</b></div><div class=\"sk-container\" hidden><div class=\"sk-item sk-dashed-wrapped\"><div class=\"sk-label-container\"><div class=\"sk-label sk-toggleable\"><input class=\"sk-toggleable__control sk-hidden--visually\" id=\"sk-estimator-id-1\" type=\"checkbox\" ><label for=\"sk-estimator-id-1\" class=\"sk-toggleable__label sk-toggleable__label-arrow\">GridSearchCV</label><div class=\"sk-toggleable__content\"><pre>GridSearchCV(cv=10, estimator=DecisionTreeClassifier(random_state=42),\n",
       "             param_grid={&#x27;criterion&#x27;: [&#x27;gini&#x27;, &#x27;entropy&#x27;],\n",
       "                         &#x27;max_depth&#x27;: [2, 3, 4, 5]},\n",
       "             return_train_score=True)</pre></div></div></div><div class=\"sk-parallel\"><div class=\"sk-parallel-item\"><div class=\"sk-item\"><div class=\"sk-label-container\"><div class=\"sk-label sk-toggleable\"><input class=\"sk-toggleable__control sk-hidden--visually\" id=\"sk-estimator-id-2\" type=\"checkbox\" ><label for=\"sk-estimator-id-2\" class=\"sk-toggleable__label sk-toggleable__label-arrow\">estimator: DecisionTreeClassifier</label><div class=\"sk-toggleable__content\"><pre>DecisionTreeClassifier(random_state=42)</pre></div></div></div><div class=\"sk-serial\"><div class=\"sk-item\"><div class=\"sk-estimator sk-toggleable\"><input class=\"sk-toggleable__control sk-hidden--visually\" id=\"sk-estimator-id-3\" type=\"checkbox\" ><label for=\"sk-estimator-id-3\" class=\"sk-toggleable__label sk-toggleable__label-arrow\">DecisionTreeClassifier</label><div class=\"sk-toggleable__content\"><pre>DecisionTreeClassifier(random_state=42)</pre></div></div></div></div></div></div></div></div></div></div>"
      ],
      "text/plain": [
       "GridSearchCV(cv=10, estimator=DecisionTreeClassifier(random_state=42),\n",
       "             param_grid={'criterion': ['gini', 'entropy'],\n",
       "                         'max_depth': [2, 3, 4, 5]},\n",
       "             return_train_score=True)"
      ]
     },
     "execution_count": 71,
     "metadata": {},
     "output_type": "execute_result"
    }
   ],
   "source": [
    "grid_search = GridSearchCV(clasi, param_grid=param_grid, cv=10, return_train_score=True)\n",
    "grid_search.fit(X_train, y_train)"
   ]
  },
  {
   "cell_type": "code",
   "execution_count": 73,
   "id": "74cc15db-f5f5-4ba3-82bd-1106868cf40c",
   "metadata": {},
   "outputs": [
    {
     "name": "stdout",
     "output_type": "stream",
     "text": [
      "{'criterion': 'gini', 'max_depth': 2}\n"
     ]
    }
   ],
   "source": [
    "print(grid_search.best_params_)"
   ]
  },
  {
   "cell_type": "markdown",
   "id": "e5f5f6ea-499e-4aa6-adba-76f525a16f58",
   "metadata": {},
   "source": [
    "## 3.1 Creación del modelo:"
   ]
  },
  {
   "cell_type": "markdown",
   "id": "d1aa3c52-3f0e-489a-ac5d-b6fe7c17f627",
   "metadata": {},
   "source": [
    "* Con los parámetros que nos da la función GridSearchCV procedemos a crear el modelo, con la diferencia de el max_depth lo tomaremos en 5 para poder tener una vista mas ampliada de los nodos del árbol "
   ]
  },
  {
   "cell_type": "code",
   "execution_count": 80,
   "id": "a0214759-700b-4081-96cc-a84fafe94ad2",
   "metadata": {},
   "outputs": [],
   "source": [
    "modelo = DecisionTreeClassifier(\n",
    "            max_depth         = 5,\n",
    "            criterion         = 'gini',\n",
    "            random_state      = 42\n",
    "          )\n"
   ]
  },
  {
   "cell_type": "code",
   "execution_count": 82,
   "id": "453dfdc5-10e8-430d-8f6c-e02ca05ad21a",
   "metadata": {},
   "outputs": [
    {
     "data": {
      "text/html": [
       "<style>#sk-container-id-2 {color: black;background-color: white;}#sk-container-id-2 pre{padding: 0;}#sk-container-id-2 div.sk-toggleable {background-color: white;}#sk-container-id-2 label.sk-toggleable__label {cursor: pointer;display: block;width: 100%;margin-bottom: 0;padding: 0.3em;box-sizing: border-box;text-align: center;}#sk-container-id-2 label.sk-toggleable__label-arrow:before {content: \"▸\";float: left;margin-right: 0.25em;color: #696969;}#sk-container-id-2 label.sk-toggleable__label-arrow:hover:before {color: black;}#sk-container-id-2 div.sk-estimator:hover label.sk-toggleable__label-arrow:before {color: black;}#sk-container-id-2 div.sk-toggleable__content {max-height: 0;max-width: 0;overflow: hidden;text-align: left;background-color: #f0f8ff;}#sk-container-id-2 div.sk-toggleable__content pre {margin: 0.2em;color: black;border-radius: 0.25em;background-color: #f0f8ff;}#sk-container-id-2 input.sk-toggleable__control:checked~div.sk-toggleable__content {max-height: 200px;max-width: 100%;overflow: auto;}#sk-container-id-2 input.sk-toggleable__control:checked~label.sk-toggleable__label-arrow:before {content: \"▾\";}#sk-container-id-2 div.sk-estimator input.sk-toggleable__control:checked~label.sk-toggleable__label {background-color: #d4ebff;}#sk-container-id-2 div.sk-label input.sk-toggleable__control:checked~label.sk-toggleable__label {background-color: #d4ebff;}#sk-container-id-2 input.sk-hidden--visually {border: 0;clip: rect(1px 1px 1px 1px);clip: rect(1px, 1px, 1px, 1px);height: 1px;margin: -1px;overflow: hidden;padding: 0;position: absolute;width: 1px;}#sk-container-id-2 div.sk-estimator {font-family: monospace;background-color: #f0f8ff;border: 1px dotted black;border-radius: 0.25em;box-sizing: border-box;margin-bottom: 0.5em;}#sk-container-id-2 div.sk-estimator:hover {background-color: #d4ebff;}#sk-container-id-2 div.sk-parallel-item::after {content: \"\";width: 100%;border-bottom: 1px solid gray;flex-grow: 1;}#sk-container-id-2 div.sk-label:hover label.sk-toggleable__label {background-color: #d4ebff;}#sk-container-id-2 div.sk-serial::before {content: \"\";position: absolute;border-left: 1px solid gray;box-sizing: border-box;top: 0;bottom: 0;left: 50%;z-index: 0;}#sk-container-id-2 div.sk-serial {display: flex;flex-direction: column;align-items: center;background-color: white;padding-right: 0.2em;padding-left: 0.2em;position: relative;}#sk-container-id-2 div.sk-item {position: relative;z-index: 1;}#sk-container-id-2 div.sk-parallel {display: flex;align-items: stretch;justify-content: center;background-color: white;position: relative;}#sk-container-id-2 div.sk-item::before, #sk-container-id-2 div.sk-parallel-item::before {content: \"\";position: absolute;border-left: 1px solid gray;box-sizing: border-box;top: 0;bottom: 0;left: 50%;z-index: -1;}#sk-container-id-2 div.sk-parallel-item {display: flex;flex-direction: column;z-index: 1;position: relative;background-color: white;}#sk-container-id-2 div.sk-parallel-item:first-child::after {align-self: flex-end;width: 50%;}#sk-container-id-2 div.sk-parallel-item:last-child::after {align-self: flex-start;width: 50%;}#sk-container-id-2 div.sk-parallel-item:only-child::after {width: 0;}#sk-container-id-2 div.sk-dashed-wrapped {border: 1px dashed gray;margin: 0 0.4em 0.5em 0.4em;box-sizing: border-box;padding-bottom: 0.4em;background-color: white;}#sk-container-id-2 div.sk-label label {font-family: monospace;font-weight: bold;display: inline-block;line-height: 1.2em;}#sk-container-id-2 div.sk-label-container {text-align: center;}#sk-container-id-2 div.sk-container {/* jupyter's `normalize.less` sets `[hidden] { display: none; }` but bootstrap.min.css set `[hidden] { display: none !important; }` so we also need the `!important` here to be able to override the default hidden behavior on the sphinx rendered scikit-learn.org. See: https://github.com/scikit-learn/scikit-learn/issues/21755 */display: inline-block !important;position: relative;}#sk-container-id-2 div.sk-text-repr-fallback {display: none;}</style><div id=\"sk-container-id-2\" class=\"sk-top-container\"><div class=\"sk-text-repr-fallback\"><pre>DecisionTreeClassifier(max_depth=5, random_state=42)</pre><b>In a Jupyter environment, please rerun this cell to show the HTML representation or trust the notebook. <br />On GitHub, the HTML representation is unable to render, please try loading this page with nbviewer.org.</b></div><div class=\"sk-container\" hidden><div class=\"sk-item\"><div class=\"sk-estimator sk-toggleable\"><input class=\"sk-toggleable__control sk-hidden--visually\" id=\"sk-estimator-id-4\" type=\"checkbox\" checked><label for=\"sk-estimator-id-4\" class=\"sk-toggleable__label sk-toggleable__label-arrow\">DecisionTreeClassifier</label><div class=\"sk-toggleable__content\"><pre>DecisionTreeClassifier(max_depth=5, random_state=42)</pre></div></div></div></div></div>"
      ],
      "text/plain": [
       "DecisionTreeClassifier(max_depth=5, random_state=42)"
      ]
     },
     "execution_count": 82,
     "metadata": {},
     "output_type": "execute_result"
    }
   ],
   "source": [
    "# Entrenamiento del modelo:\n",
    "modelo.fit(X_train, y_train)"
   ]
  },
  {
   "cell_type": "code",
   "execution_count": 84,
   "id": "95e08d2e-4af5-47db-ad44-194b921f43bb",
   "metadata": {},
   "outputs": [
    {
     "name": "stdout",
     "output_type": "stream",
     "text": [
      "Profundidad del árbol: 5\n",
      "Número de nodos terminales: 7\n"
     ]
    },
    {
     "data": {
      "image/png": "[encoded data removed]",
      "text/plain": [
       "<Figure size 1300x600 with 1 Axes>"
      ]
     },
     "metadata": {},
     "output_type": "display_data"
    }
   ],
   "source": [
    "# Visualizacion del modelo\n",
    "\n",
    "fig, ax = plt.subplots(figsize=(13, 6))\n",
    "\n",
    "print(f\"Profundidad del árbol: {modelo.get_depth()}\")\n",
    "print(f\"Número de nodos terminales: {modelo.get_n_leaves()}\")\n",
    "\n",
    "plot = plot_tree(\n",
    "            decision_tree = modelo,\n",
    "            feature_names = df_var1.columns,\n",
    "            filled        = True,\n",
    "            impurity      = False,\n",
    "            fontsize      = 7,\n",
    "            ax            = ax\n",
    "       )"
   ]
  },
  {
   "cell_type": "markdown",
   "id": "050f261c-70ee-4777-96f5-12bf8d92c50b",
   "metadata": {},
   "source": [
    "## 4 Evaluación del modelo"
   ]
  },
  {
   "cell_type": "code",
   "execution_count": 87,
   "id": "de81c63a-22f9-4fd0-b2cc-0c0160b30c32",
   "metadata": {},
   "outputs": [
    {
     "data": {
      "text/plain": [
       "<sklearn.metrics._plot.confusion_matrix.ConfusionMatrixDisplay at 0x1b5c7a98d50>"
      ]
     },
     "execution_count": 87,
     "metadata": {},
     "output_type": "execute_result"
    },
    {
     "data": {
      "image/png": "[encoded data removed]",
      "text/plain": [
       "<Figure size 640x480 with 2 Axes>"
      ]
     },
     "metadata": {},
     "output_type": "display_data"
    }
   ],
   "source": [
    "# Predicción de Y\n",
    "predic = modelo.predict(X = X_test,)\n",
    "\n",
    "matriz = confusion_matrix(y_test,predic)\n",
    "ConfusionMatrixDisplay(matriz).plot()"
   ]
  },
  {
   "cell_type": "code",
   "execution_count": 89,
   "id": "3351df8a-e066-4d11-a6c0-e926cec4adf7",
   "metadata": {},
   "outputs": [
    {
     "name": "stdout",
     "output_type": "stream",
     "text": [
      "0.9972953479985576\n"
     ]
    }
   ],
   "source": [
    "accuracy = accuracy_score(\n",
    "            y_true    = y_test,\n",
    "            y_pred    = predic,\n",
    "            normalize = True\n",
    "           )\n",
    "print(accuracy)"
   ]
  },
  {
   "cell_type": "code",
   "execution_count": 101,
   "id": "d5fc20e0-ac42-4378-a686-076ca6b6b5f1",
   "metadata": {},
   "outputs": [
    {
     "name": "stdout",
     "output_type": "stream",
     "text": [
      "Importancia de los predictores en el modelo\n"
     ]
    },
    {
     "data": {
      "text/html": [
       "<div>\n",
       "<style scoped>\n",
       "    .dataframe tbody tr th:only-of-type {\n",
       "        vertical-align: middle;\n",
       "    }\n",
       "\n",
       "    .dataframe tbody tr th {\n",
       "        vertical-align: top;\n",
       "    }\n",
       "\n",
       "    .dataframe thead th {\n",
       "        text-align: right;\n",
       "    }\n",
       "</style>\n",
       "<table border=\"1\" class=\"dataframe\">\n",
       "  <thead>\n",
       "    <tr style=\"text-align: right;\">\n",
       "      <th></th>\n",
       "      <th>predictor</th>\n",
       "      <th>importancia</th>\n",
       "    </tr>\n",
       "  </thead>\n",
       "  <tbody>\n",
       "    <tr>\n",
       "      <th>8</th>\n",
       "      <td>TotalAmount</td>\n",
       "      <td>0.999697</td>\n",
       "    </tr>\n",
       "    <tr>\n",
       "      <th>6</th>\n",
       "      <td>TotalChildren</td>\n",
       "      <td>0.000156</td>\n",
       "    </tr>\n",
       "    <tr>\n",
       "      <th>2</th>\n",
       "      <td>Age</td>\n",
       "      <td>0.000148</td>\n",
       "    </tr>\n",
       "    <tr>\n",
       "      <th>0</th>\n",
       "      <td>Occupation</td>\n",
       "      <td>0.000000</td>\n",
       "    </tr>\n",
       "    <tr>\n",
       "      <th>1</th>\n",
       "      <td>MaritalStatus</td>\n",
       "      <td>0.000000</td>\n",
       "    </tr>\n",
       "    <tr>\n",
       "      <th>3</th>\n",
       "      <td>Gender</td>\n",
       "      <td>0.000000</td>\n",
       "    </tr>\n",
       "    <tr>\n",
       "      <th>4</th>\n",
       "      <td>NumberCarsOwned</td>\n",
       "      <td>0.000000</td>\n",
       "    </tr>\n",
       "    <tr>\n",
       "      <th>5</th>\n",
       "      <td>Education</td>\n",
       "      <td>0.000000</td>\n",
       "    </tr>\n",
       "    <tr>\n",
       "      <th>7</th>\n",
       "      <td>YearlyIncome</td>\n",
       "      <td>0.000000</td>\n",
       "    </tr>\n",
       "  </tbody>\n",
       "</table>\n",
       "</div>"
      ],
      "text/plain": [
       "         predictor  importancia\n",
       "8      TotalAmount     0.999697\n",
       "6    TotalChildren     0.000156\n",
       "2              Age     0.000148\n",
       "0       Occupation     0.000000\n",
       "1    MaritalStatus     0.000000\n",
       "3           Gender     0.000000\n",
       "4  NumberCarsOwned     0.000000\n",
       "5        Education     0.000000\n",
       "7     YearlyIncome     0.000000"
      ]
     },
     "execution_count": 101,
     "metadata": {},
     "output_type": "execute_result"
    }
   ],
   "source": [
    "print(\"Importancia de los predictores en el modelo\")\n",
    "\n",
    "importancia_predictores = pd.DataFrame(\n",
    "                            {'predictor': X_test.columns,\n",
    "                             'importancia': modelo.feature_importances_}\n",
    "                            )\n",
    "importancia_predictores.sort_values('importancia', ascending=False)"
   ]
  },
  {
   "cell_type": "code",
   "execution_count": 95,
   "id": "dbe6b1c3-b3f0-4cbd-a649-41718b780f0a",
   "metadata": {},
   "outputs": [],
   "source": [
    "importancia = pd.DataFrame(pd.Series(modelo.feature_importances_, index=X_train.columns).sort_values(ascending=False)).T"
   ]
  },
  {
   "cell_type": "code",
   "execution_count": 99,
   "id": "f06dde6b-c9ee-4cf1-95da-f64c21015585",
   "metadata": {},
   "outputs": [
    {
     "data": {
      "image/png": "[encoded data removed]",
      "text/plain": [
       "<Figure size 1200x400 with 1 Axes>"
      ]
     },
     "metadata": {},
     "output_type": "display_data"
    }
   ],
   "source": [
    "plt.figure(figsize=(12,4))\n",
    "sns.barplot(data=importancia)\n",
    "\n",
    "for index, value in enumerate(importancia.values.flatten()):\n",
    "    plt.annotate(f'{value:.2f}', xy=(index, value), ha='center', va='bottom')\n",
    "\n",
    "\n",
    "plt.title(\"Gráfica de importancia de los predictores en el modelo\")\n",
    "plt.show()"
   ]
  },
  {
   "cell_type": "markdown",
   "id": "eef22ff5-317a-4075-b961-3830d0fd1d50",
   "metadata": {},
   "source": [
    "## 5. Conclusiones"
   ]
  },
  {
   "cell_type": "markdown",
   "id": "9543e931-19ca-42e4-b2d7-e0abdc173b4d",
   "metadata": {},
   "source": [
    "* Respondiendo a la pregunta de la prueba técnica:\n",
    "    + ¿Qué tan confiable es el modelo?\n",
    "La evaluación del modelo se realizo por medio de una matriz de confusión en la cual se evaluaron las variables de entrenamiento (que contiene información real del DatSet) contra las variables predictoras obteniendo un nivel de confianza del 99,7%\n",
    "    + ¿Cuál o cuales son las variables mas importantes a la hora de realizar una compra por parte del cliente?\r\n",
    "La variable más importante a la hora de realizar una compra es la variable TotalAmount con un nivel de importancia del 99.9% obtenido por medio de la función sort_values\r\n"
   ]
  },
  {
   "cell_type": "markdown",
   "id": "566c02cd-7e19-4335-93a0-e517b4d9b7e3",
   "metadata": {},
   "source": [
    "* Le siguen las variables TotalChildren, Age pero con un nivel de importancia muy bajo, casi cercano a cero como se puede apreciar en la tabla presentada."
   ]
  },
  {
   "cell_type": "markdown",
   "id": "c5eaa308-e856-4598-92ed-c2b345dadabb",
   "metadata": {},
   "source": [
    "* Realizando un análisis de las variables presentadas tiene sentido que la variable significativa a la hora de hacer una compra de bicicleta sea TotalAmount que se interpreta como los ingresos totales de la persona ya sea a nivel mensual o anual, ya que la compra de una bicicleta se puede catalogar como un lujo adquirido no una necesidad vital, por ende entre mas ingresos tenga la persona es mas factible que opte por comprarla bicicleta debido a que esta compra no va a afectar sus responsabilidades económicas."
   ]
  },
  {
   "cell_type": "markdown",
   "id": "c4919a33-0df7-415f-9b09-34a8b2780661",
   "metadata": {},
   "source": [
    "* El hecho de que las demás variables ingresadas en el modelo de clasificación no tuvieran un nivel de significancia considerable se debe a la alta correlación que existe entre la variable TotalAmount contra las demás variables"
   ]
  },
  {
   "cell_type": "markdown",
   "id": "b75fbb73-e39d-44e7-ae27-4767684027d3",
   "metadata": {},
   "source": [
    "* Lo anterior se explica de la siguiente manera:\n",
    "    + TotalAmount vs Education : Por comportamiento social se espera que entre mayor sea el grado de educación de una persona sus ingresos sean mas altos, por ende al escoger cualquiera de las dos variables se espera tener los mismos resultados\n",
    "    + TotalAmount vs Occupation: Sucede igual que el comportamiento anterior, entre mas alto el grado de desempeño laboral mas ingresos tiene la persona\n",
    "    + TotalAmount vs YearIncome: Esta correlación esta al 100% y que el total de ingresos da la clasificación de la variable YearIncome"
   ]
  },
  {
   "cell_type": "markdown",
   "id": "dc172287-1401-4923-b086-8c7f7e7f128a",
   "metadata": {},
   "source": [
    "* De manera general la variable TotalAmount va a influir sobre las demás variables del modelo, se presenta una relación directamente proporcional"
   ]
  },
  {
   "cell_type": "markdown",
   "id": "34905b25-c94c-42ae-b80d-c2eff846ebc9",
   "metadata": {},
   "source": [
    "* Las demás variables son presentan un nivel significativo de importancia, de acuerdo al modelo: Ni el género, ni el estado civil, ni el numero de carros, ni el numero de hijos va a influir directamente en la decisión de compra."
   ]
  },
  {
   "cell_type": "code",
   "execution_count": null,
   "id": "48c238cc-9efb-441f-9a05-de87e9005923",
   "metadata": {},
   "outputs": [],
   "source": []
  }
 ],
 "metadata": {
  "kernelspec": {
   "display_name": "Python 3 (ipykernel)",
   "language": "python",
   "name": "python3"
  },
  "language_info": {
   "codemirror_mode": {
    "name": "ipython",
    "version": 3
   },
   "file_extension": ".py",
   "mimetype": "text/x-python",
   "name": "python",
   "nbconvert_exporter": "python",
   "pygments_lexer": "ipython3",
   "version": "3.11.7"
  }
 },
 "nbformat": 4,
 "nbformat_minor": 5
}
